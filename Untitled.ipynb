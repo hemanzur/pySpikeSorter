{
 "cells": [
  {
   "cell_type": "code",
   "execution_count": 3,
   "metadata": {},
   "outputs": [
    {
     "name": "stdout",
     "output_type": "stream",
     "text": [
      "Populating the interactive namespace from numpy and matplotlib\n"
     ]
    },
    {
     "name": "stderr",
     "output_type": "stream",
     "text": [
      "/usr/local/lib/python3.5/dist-packages/IPython/core/magics/pylab.py:160: UserWarning: pylab import has clobbered these variables: ['var']\n",
      "`%matplotlib` prevents importing * from pylab and numpy\n",
      "  \"\\n`%matplotlib` prevents importing * from pylab and numpy\"\n"
     ]
    }
   ],
   "source": [
    "\"\"\"\n",
    "Show how to use a lasso to select a set of points and get the indices\n",
    "of the selected points.  A callback is used to change the color of the\n",
    "selected points\n",
    "\n",
    "This is currently a proof-of-concept implementation (though it is\n",
    "usable as is).  There will be some refinement of the API.\n",
    "\"\"\"\n",
    "%pylab qt\n",
    "\n",
    "from matplotlib.widgets import Lasso\n",
    "from matplotlib.collections import RegularPolyCollection\n",
    "from matplotlib import colors as mcolors, path\n",
    "\n",
    "import matplotlib.pyplot as plt\n",
    "from numpy import nonzero\n",
    "from numpy.random import rand\n",
    "\n",
    "\n",
    "class Datum(object):\n",
    "    colorin = mcolors.to_rgba(\"red\")\n",
    "    colorout = mcolors.to_rgba(\"blue\")\n",
    "\n",
    "    def __init__(self, x, y, include=False):\n",
    "        self.x = x\n",
    "        self.y = y\n",
    "        if include:\n",
    "            self.color = self.colorin\n",
    "        else:\n",
    "            self.color = self.colorout\n",
    "\n",
    "\n",
    "class LassoManager(object):\n",
    "    def __init__(self, ax, data):\n",
    "        self.axes = ax\n",
    "        self.canvas = ax.figure.canvas\n",
    "        self.data = data\n",
    "\n",
    "        self.Nxy = len(data)\n",
    "\n",
    "        facecolors = [d.color for d in data]\n",
    "        self.xys = [(d.x, d.y) for d in data]\n",
    "        self.collection = RegularPolyCollection(\n",
    "            6, sizes=(100,),\n",
    "            facecolors=facecolors,\n",
    "            offsets=self.xys,\n",
    "            transOffset=ax.transData)\n",
    "\n",
    "        ax.add_collection(self.collection)\n",
    "\n",
    "        self.cid = self.canvas.mpl_connect('button_press_event', self.onpress)\n",
    "\n",
    "    def callback(self, verts):\n",
    "        facecolors = self.collection.get_facecolors()\n",
    "        p = path.Path(verts)\n",
    "        ind = p.contains_points(self.xys)\n",
    "        for i in range(len(self.xys)):\n",
    "            if ind[i]:\n",
    "                facecolors[i] = Datum.colorin\n",
    "            else:\n",
    "                facecolors[i] = Datum.colorout\n",
    "\n",
    "        self.canvas.draw_idle()\n",
    "        self.canvas.widgetlock.release(self.lasso)\n",
    "        del self.lasso\n",
    "\n",
    "    def onpress(self, event):\n",
    "        if self.canvas.widgetlock.locked():\n",
    "            return\n",
    "        if event.inaxes is None:\n",
    "            return\n",
    "        self.lasso = Lasso(event.inaxes,\n",
    "                           (event.xdata, event.ydata),\n",
    "                           self.callback)\n",
    "        # acquire a lock on the widget drawing\n",
    "        self.canvas.widgetlock(self.lasso)\n",
    "\n",
    "if __name__ == '__main__':\n",
    "\n",
    "    data = [Datum(*xy) for xy in rand(100, 2)]\n",
    "    ax = plt.axes(xlim=(0, 1), ylim=(0, 1), autoscale_on=False)\n",
    "    ax.set_title('Lasso points using left mouse button')\n",
    "\n",
    "    lman = LassoManager(ax, data)\n",
    "\n",
    "    plt.show()"
   ]
  },
  {
   "cell_type": "code",
   "execution_count": 7,
   "metadata": {},
   "outputs": [
    {
     "data": {
      "text/plain": [
       "range(0, 100, 4)"
      ]
     },
     "execution_count": 7,
     "metadata": {},
     "output_type": "execute_result"
    }
   ],
   "source": [
    "range(0, 100, int(100/25))"
   ]
  }
 ],
 "metadata": {
  "kernelspec": {
   "display_name": "Python 3",
   "language": "python",
   "name": "python3"
  },
  "language_info": {
   "codemirror_mode": {
    "name": "ipython",
    "version": 3
   },
   "file_extension": ".py",
   "mimetype": "text/x-python",
   "name": "python",
   "nbconvert_exporter": "python",
   "pygments_lexer": "ipython3",
   "version": "3.5.3"
  }
 },
 "nbformat": 4,
 "nbformat_minor": 2
}
